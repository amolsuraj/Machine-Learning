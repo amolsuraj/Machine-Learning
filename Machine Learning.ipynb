{
 "cells": [
  {
   "cell_type": "markdown",
   "metadata": {},
   "source": [
    "# Machine Learning"
   ]
  },
  {
   "cell_type": "code",
   "execution_count": 1,
   "metadata": {},
   "outputs": [],
   "source": [
    "# Machine Learning is making the computer learn from studying data and statistics.\n",
    "# Machine Learning is a program that analyses data and learns to predict the outcome.\n",
    "# Machine Learning is for Analyzing data and predicting the outcome."
   ]
  },
  {
   "cell_type": "markdown",
   "metadata": {},
   "source": [
    "## Data Types"
   ]
  },
  {
   "cell_type": "code",
   "execution_count": 2,
   "metadata": {},
   "outputs": [],
   "source": [
    "# To analyze data, it is important to know what type of data we are dealing with.\n",
    "\n",
    "# We can split the data types into three main categories:\n",
    "\n",
    "#     Numerical\n",
    "#     Categorical\n",
    "#     Ordinal\n",
    "\n",
    "# Numerical data are numbers, and can be split into two numerical categories:\n",
    "\n",
    "#     Discrete Data\n",
    "#     - numbers that are limited to integers. Example: The number of cars passing by.\n",
    "#     Continuous Data\n",
    "#     - numbers that are of infinite value. Example: The price of an item, or the size of an item\n",
    "\n",
    "# Categorical data are values that cannot be measured up against each other. Example: a color value, or any yes/no values.\n",
    "\n",
    "# Ordinal data are like categorical data, but can be measured up against each other. Example: school grades where A is better than B and so on.\n",
    "\n",
    "# By knowing the data type of your data source, you will be able to know what technique to use when analyzing them."
   ]
  },
  {
   "cell_type": "markdown",
   "metadata": {},
   "source": [
    "## Mean, Median, and Mode"
   ]
  },
  {
   "cell_type": "code",
   "execution_count": 3,
   "metadata": {},
   "outputs": [],
   "source": [
    "# In Machine Learning (and in mathematics) there are often three values that interests us:\n",
    "\n",
    "#     Mean - The average value\n",
    "#     Median - The mid point value\n",
    "#     Mode - The most common value"
   ]
  },
  {
   "cell_type": "code",
   "execution_count": 4,
   "metadata": {},
   "outputs": [
    {
     "ename": "NameError",
     "evalue": "name 'numpy' is not defined",
     "output_type": "error",
     "traceback": [
      "\u001b[1;31m---------------------------------------------------------------------------\u001b[0m",
      "\u001b[1;31mNameError\u001b[0m                                 Traceback (most recent call last)",
      "\u001b[1;32m<ipython-input-4-e4b072d91225>\u001b[0m in \u001b[0;36m<module>\u001b[1;34m\u001b[0m\n\u001b[0;32m      8\u001b[0m \u001b[0mspeed\u001b[0m \u001b[1;33m=\u001b[0m \u001b[1;33m[\u001b[0m\u001b[1;36m99\u001b[0m\u001b[1;33m,\u001b[0m\u001b[1;36m86\u001b[0m\u001b[1;33m,\u001b[0m\u001b[1;36m87\u001b[0m\u001b[1;33m,\u001b[0m\u001b[1;36m88\u001b[0m\u001b[1;33m,\u001b[0m\u001b[1;36m111\u001b[0m\u001b[1;33m,\u001b[0m\u001b[1;36m86\u001b[0m\u001b[1;33m,\u001b[0m\u001b[1;36m103\u001b[0m\u001b[1;33m,\u001b[0m\u001b[1;36m87\u001b[0m\u001b[1;33m,\u001b[0m\u001b[1;36m94\u001b[0m\u001b[1;33m,\u001b[0m\u001b[1;36m78\u001b[0m\u001b[1;33m,\u001b[0m\u001b[1;36m77\u001b[0m\u001b[1;33m,\u001b[0m\u001b[1;36m85\u001b[0m\u001b[1;33m,\u001b[0m\u001b[1;36m86\u001b[0m\u001b[1;33m]\u001b[0m\u001b[1;33m\u001b[0m\u001b[1;33m\u001b[0m\u001b[0m\n\u001b[0;32m      9\u001b[0m \u001b[1;33m\u001b[0m\u001b[0m\n\u001b[1;32m---> 10\u001b[1;33m \u001b[0mx\u001b[0m \u001b[1;33m=\u001b[0m \u001b[0mnumpy\u001b[0m\u001b[1;33m.\u001b[0m\u001b[0mmean\u001b[0m\u001b[1;33m(\u001b[0m\u001b[0mspeed\u001b[0m\u001b[1;33m)\u001b[0m\u001b[1;33m\u001b[0m\u001b[1;33m\u001b[0m\u001b[0m\n\u001b[0m\u001b[0;32m     11\u001b[0m \u001b[1;33m\u001b[0m\u001b[0m\n\u001b[0;32m     12\u001b[0m \u001b[0mprint\u001b[0m\u001b[1;33m(\u001b[0m\u001b[0mx\u001b[0m\u001b[1;33m)\u001b[0m\u001b[1;33m\u001b[0m\u001b[1;33m\u001b[0m\u001b[0m\n",
      "\u001b[1;31mNameError\u001b[0m: name 'numpy' is not defined"
     ]
    }
   ],
   "source": [
    "# Mean\n",
    "\n",
    "# The mean value is the average value.\n",
    "\n",
    "# To calculate the mean, find the sum of all values, and divide the sum by the number of values:\n",
    "# import numpy\n",
    "\n",
    "speed = [99,86,87,88,111,86,103,87,94,78,77,85,86]\n",
    "\n",
    "x = numpy.mean(speed)\n",
    "\n",
    "print(x) "
   ]
  },
  {
   "cell_type": "code",
   "execution_count": null,
   "metadata": {},
   "outputs": [],
   "source": [
    "# Median\n",
    "\n",
    "# The median value is the value in the middle, after you have sorted all the values:\n",
    "# It is important that the numbers are sorted before you can find the median.\n",
    "import numpy\n",
    "\n",
    "speed = [77, 78, 85, 86, 86, 86, 87, 87, 94, 98, 99, 103]\n",
    "\n",
    "x = numpy.median(speed)\n",
    "\n",
    "print(x) "
   ]
  },
  {
   "cell_type": "code",
   "execution_count": null,
   "metadata": {},
   "outputs": [],
   "source": [
    "# Mode\n",
    "\n",
    "# The Mode value is the value that appears the most number of times:\n",
    "# Use the SciPy mode() method to find the number that appears the most:\n",
    "\n",
    "from scipy import stats\n",
    "\n",
    "speed = [99,86,87,88,111,86,103,87,94,78,77,85,86,86]\n",
    "\n",
    "x = stats.mode(speed)\n",
    "\n",
    "print(x) "
   ]
  },
  {
   "cell_type": "markdown",
   "metadata": {},
   "source": [
    "## Standard Deviation"
   ]
  },
  {
   "cell_type": "code",
   "execution_count": null,
   "metadata": {},
   "outputs": [],
   "source": [
    "# Standard deviation is a number that describes how spread out the values are.\n",
    "\n",
    "# A low standard deviation means that most of the numbers are close to the mean (average) value.\n",
    "\n",
    "# A high standard deviation means that the values are spread out over a wider range.\n",
    "\n",
    "# speed = [86,87,88,86,87,85,86]\n",
    "# The standard deviation is:\n",
    "# 0.9\n",
    "# Meaning that most of the values are within the range of 0.9 from the mean value, which is 86.4.\n",
    "# Let us do the same with a selection of numbers with a wider range:\n",
    "# speed = [32,111,138,28,59,77,97]\n",
    "# The standard deviation is:\n",
    "# 37.85\n",
    "# Meaning that most of the values are within the range of 37.85 from the mean value, which is 77.4.\n",
    "# As you can see, a higher standard deviation indicates that the values are spread out over a wider range.\n",
    "# Use the NumPy std() method to find the standard deviation:\n",
    "\n",
    "import numpy\n",
    "\n",
    "speed = [86,87,88,86,87,85,86]\n",
    "\n",
    "x = numpy.std(speed)\n",
    "\n",
    "print(x) "
   ]
  },
  {
   "cell_type": "code",
   "execution_count": null,
   "metadata": {},
   "outputs": [],
   "source": [
    "import numpy\n",
    "\n",
    "speed = [32,111,138,28,59,77,97]\n",
    "\n",
    "x = numpy.std(speed)\n",
    "\n",
    "print(x) "
   ]
  },
  {
   "cell_type": "code",
   "execution_count": null,
   "metadata": {},
   "outputs": [],
   "source": [
    "# Variance\n",
    "\n",
    "# Variance is another number that indicates how spread out the values are.\n",
    "\n",
    "# In fact, if you take the square root of the variance, you get the standard deviation!\n",
    "\n",
    "# Or the other way around, if you multiply the standard deviation by itself, you get the variance!\n",
    "# To calculate the variance you have to do as follows:\n",
    "\n",
    "# 1. Find the mean:\n",
    "\n",
    "# (32+111+138+28+59+77+97) / 7 = 77.4\n",
    "\n",
    "# 2. For each value: find the difference from the mean:\n",
    "\n",
    "#  32 - 77.4 = -45.4\n",
    "# 111 - 77.4 =  33.6\n",
    "# 138 - 77.4 =  60.6\n",
    "#  28 - 77.4 = -49.4\n",
    "#  59 - 77.4 = -18.4\n",
    "#  77 - 77.4 = - 0.4\n",
    "#  97 - 77.4 =  19.6\n",
    "\n",
    "# 3. For each difference: find the square value:\n",
    "\n",
    "# (-45.4)2 = 2061.16\n",
    "#  (33.6)2 = 1128.96\n",
    "#  (60.6)2 = 3672.36\n",
    "# (-49.4)2 = 2440.36\n",
    "# (-18.4)2 =  338.56\n",
    "# (- 0.4)2 =    0.16\n",
    "#  (19.6)2 =  384.16\n",
    "\n",
    "# 4. The variance is the average number of these squared differences:\n",
    "\n",
    "# (2061.16+1128.96+3672.36+2440.36+338.56+0.16+384.16) / 7 = 1432.2 \n",
    "\n",
    "# Use the NumPy var() method to find the variance:\n",
    "\n",
    "import numpy\n",
    "\n",
    "speed = [32,111,138,28,59,77,97]\n",
    "\n",
    "x = numpy.var(speed)\n",
    "\n",
    "print(x) "
   ]
  },
  {
   "cell_type": "code",
   "execution_count": null,
   "metadata": {},
   "outputs": [],
   "source": [
    "# Standard Deviation is often represented by the symbol Sigma: σ\n",
    "\n",
    "# Variance is often represented by the symbol Sigma Square: σ2 "
   ]
  },
  {
   "cell_type": "markdown",
   "metadata": {},
   "source": [
    "## Percentiles"
   ]
  },
  {
   "cell_type": "code",
   "execution_count": null,
   "metadata": {},
   "outputs": [],
   "source": [
    "# Percentiles are used in statistics to give you a number that describes the value that \n",
    "# a given percent of the values are lower than.\n",
    "\n",
    "# Use the NumPy percentile() method to find the percentiles:\n",
    "import numpy\n",
    "\n",
    "ages = [5,31,43,48,50,41,7,11,15,39,80,82,32,2,8,6,25,36,27,61,31]\n",
    "\n",
    "x = numpy.percentile(ages, 75)\n",
    "\n",
    "print(x) "
   ]
  },
  {
   "cell_type": "code",
   "execution_count": null,
   "metadata": {},
   "outputs": [],
   "source": [
    "import numpy\n",
    "\n",
    "ages = [5,31,43,48,50,41,7,11,15,39,80,82,32,2,8,6,25,36,27,61,31]\n",
    "\n",
    "x = numpy.percentile(ages, 90)\n",
    "\n",
    "print(x) "
   ]
  },
  {
   "cell_type": "markdown",
   "metadata": {},
   "source": [
    "## Data Distribution"
   ]
  },
  {
   "cell_type": "code",
   "execution_count": null,
   "metadata": {},
   "outputs": [],
   "source": [
    "# In the real world, the data sets are much bigger, but it can be difficult to gather real world data, \n",
    "# at least at an early stage of a project.\n",
    "\n",
    "# To create big data sets for testing, we use the Python module NumPy, which comes with a number of methods \n",
    "# to create random data sets, of any size.\n",
    "\n",
    "# Create an array containing 250 random floats between 0 and 5:\n",
    "\n",
    "import numpy\n",
    "x = numpy.random.uniform(0.0, 5.0, 250)\n",
    "print(x) "
   ]
  },
  {
   "cell_type": "code",
   "execution_count": null,
   "metadata": {},
   "outputs": [],
   "source": [
    "# Histogram:\n",
    "# To visualize the data set we can draw a histogram with the data we collected.\n",
    "# We will use the Python module Matplotlib to draw a histogram.\n",
    "\n",
    "import numpy\n",
    "import matplotlib.pyplot as plt\n",
    "\n",
    "x = numpy.random.uniform(0.0, 5.0, 250)\n",
    "\n",
    "plt.hist(x, 5)\n",
    "plt.show() "
   ]
  },
  {
   "cell_type": "code",
   "execution_count": null,
   "metadata": {},
   "outputs": [],
   "source": [
    "# We use the array from the example above to draw a histogram with 5 bars.\n",
    "\n",
    "# The first bar represents how many values in the array are between 0 and 1.\n",
    "\n",
    "# The second bar represents how many values are between 1 and 2.\n",
    "\n",
    "# Etc."
   ]
  },
  {
   "cell_type": "code",
   "execution_count": null,
   "metadata": {},
   "outputs": [],
   "source": [
    "# Create an array with 100000 random numbers, and display them using a histogram with 100 bars:\n",
    "import numpy\n",
    "import matplotlib.pyplot as plt\n",
    "\n",
    "x = numpy.random.uniform(0.0, 10.0, 100000)\n",
    "\n",
    "plt.hist(x, 100)\n",
    "plt.show() "
   ]
  },
  {
   "cell_type": "markdown",
   "metadata": {},
   "source": [
    "## Normal Data Distribution"
   ]
  },
  {
   "cell_type": "code",
   "execution_count": null,
   "metadata": {},
   "outputs": [],
   "source": [
    "# In this chapter we will learn how to create an array where the values are concentrated around a given value.\n",
    "\n",
    "# In probability theory this kind of data distribution is known as the normal data distribution, or the Gaussian \n",
    "# data distribution, after the mathematician Carl Friedrich Gauss \n",
    "# who came up with the formula of this data distribution.\n",
    "\n",
    "import numpy\n",
    "import matplotlib.pyplot as plt\n",
    "\n",
    "x = numpy.random.normal(5.0, 1.0, 100000)\n",
    "\n",
    "plt.hist(x, 100)\n",
    "plt.show() "
   ]
  },
  {
   "cell_type": "code",
   "execution_count": null,
   "metadata": {},
   "outputs": [],
   "source": [
    "#  A normal distribution graph is also known as the bell curve because of it's characteristic shape of a bell.\n",
    "# We use the array from the numpy.random.normal() method, with 100000 values,  to draw a histogram with 100 bars.\n",
    "\n",
    "# We specify that the mean value is 5.0, and the standard deviation is 1.0.\n",
    "\n",
    "# Meaning that the values should be concentrated around 5.0, and rarely further away than 1.0 from the mean.\n",
    "\n",
    "# And as you can see from the histogram, most values are between 4.0 and 6.0, with a top at approximately 5.0.\n"
   ]
  },
  {
   "cell_type": "markdown",
   "metadata": {},
   "source": [
    "## Scatter Plot:"
   ]
  },
  {
   "cell_type": "code",
   "execution_count": null,
   "metadata": {},
   "outputs": [],
   "source": [
    "# A scatter plot is a diagram where each value in the data set is represented by a dot.\n",
    "# The Matplotlib module has a method for drawing scatter plots, it needs two arrays of the same length, \n",
    "# one for the values of the x-axis, and one for the values of the y-axis:\n",
    "\n",
    "# x = [5,7,8,7,2,17,2,9,4,11,12,9,6]\n",
    "\n",
    "# y = [99,86,87,88,111,86,103,87,94,78,77,85,86]\n",
    "\n",
    "# The x array represents the age of each car.\n",
    "\n",
    "# The y array represents the speed of each car.\n",
    "\n",
    "# Use the scatter() method to draw a scatter plot diagram:\n",
    "\n",
    "import matplotlib.pyplot as plt\n",
    "\n",
    "x = [5,7,8,7,2,17,2,9,4,11,12,9,6]\n",
    "y = [99,86,87,88,111,86,103,87,94,78,77,85,86]\n",
    "\n",
    "plt.scatter(x, y)\n",
    "plt.show()"
   ]
  },
  {
   "cell_type": "code",
   "execution_count": null,
   "metadata": {},
   "outputs": [],
   "source": [
    "# The x-axis represents ages, and the y-axis represents speeds.\n",
    "\n",
    "# What we can read from the diagram is that the two fastest cars were both 2 years old, \n",
    "# and the slowest car was 12 years old.\n",
    "\n",
    "# Note: It seems that the newer the car, the faster it drives, but that could be a coincidence, \n",
    "# after all we only registered 13 cars."
   ]
  },
  {
   "cell_type": "markdown",
   "metadata": {},
   "source": [
    "## Random Data Distributions"
   ]
  },
  {
   "cell_type": "code",
   "execution_count": null,
   "metadata": {},
   "outputs": [],
   "source": [
    "# In Machine Learning the data sets can contain thousands-, or even millions, of values.\n",
    "\n",
    "# You might not have real world data when you are testing an algorithm, you might have to use randomly generated values.\n",
    "\n",
    "# As we have learned in the previous chapter, the NumPy module can help us with that!\n",
    "\n",
    "# Let us create two arrays that are both filled with 1000 random numbers from a normal data distribution.\n",
    "\n",
    "# The first array will have the mean set to 5.0 with a standard deviation of 1.0.\n",
    "\n",
    "# The second array will have the mean set to 10.0 with a standard deviation of 2.0:\n",
    "\n",
    "# A scatter plot with 1000 dots:\n",
    "\n",
    "import numpy\n",
    "import matplotlib.pyplot as plt\n",
    "\n",
    "x = numpy.random.normal(5.0, 1.0, 1000)\n",
    "y = numpy.random.normal(10.0, 2.0, 1000)\n",
    "\n",
    "plt.scatter(x, y)\n",
    "plt.show()"
   ]
  },
  {
   "cell_type": "code",
   "execution_count": null,
   "metadata": {},
   "outputs": [],
   "source": [
    "# We can see that the dots are concentrated around the value 5 on the x-axis, and 10 on the y-axis.\n",
    "\n",
    "# We can also see that the spread is wider on the y-axis than on the x-axis."
   ]
  },
  {
   "cell_type": "markdown",
   "metadata": {},
   "source": [
    "## Regression"
   ]
  },
  {
   "cell_type": "code",
   "execution_count": null,
   "metadata": {},
   "outputs": [],
   "source": [
    "# The term regression is used when you try to find the relationship between variables.\n",
    "\n",
    "# In Machine Learning, and in statistical modeling, that relationship is used to predict\n",
    "# the outcome of future events."
   ]
  },
  {
   "cell_type": "markdown",
   "metadata": {},
   "source": [
    "### Linear Regression"
   ]
  },
  {
   "cell_type": "code",
   "execution_count": null,
   "metadata": {},
   "outputs": [],
   "source": [
    "# Linear regression uses the relationship between the data-points to draw a straight line through all them.\n",
    "\n",
    "# This line can be used to predict future values.\n",
    "\n",
    "# In Machine Learning, predicting the future is very important.\n",
    "\n",
    "# Python has methods for finding a relationship between data-points and to draw a line of linear regression. \n",
    "# We will show you how to use these methods instead of going through the mathematic formula.\n",
    "\n",
    "# In the example below, the x-axis represents age, and the y-axis represents speed. We have registered the age \n",
    "# and speed of 13 cars as they were passing a tollbooth. \n",
    "# Let us see if the data we collected could be used in a linear regression:\n",
    "# Start by drawing a scatter plot:\n",
    "\n",
    "import matplotlib.pyplot as plt\n",
    "\n",
    "x = [5,7,8,7,2,17,2,9,4,11,12,9,6]\n",
    "y = [99,86,87,88,111,86,103,87,94,78,77,85,86]\n",
    "\n",
    "plt.scatter(x, y)\n",
    "plt.show() "
   ]
  },
  {
   "cell_type": "code",
   "execution_count": null,
   "metadata": {},
   "outputs": [],
   "source": [
    "# Import scipy and draw the line of Linear Regression:\n",
    "\n",
    "import matplotlib.pyplot as plt\n",
    "from scipy import stats\n",
    "\n",
    "x = [5,7,8,7,2,17,2,9,4,11,12,9,6]\n",
    "y = [99,86,87,88,111,86,103,87,94,78,77,85,86]\n",
    "\n",
    "slope, intercept, r, p, std_err = stats.linregress(x, y) # Execute a method that returns some important key values of Linear Regression:\n",
    "\n",
    "def myfunc(x):   # Create a function that uses the slope and intercept values to return a new value. This new value represents where on the y-axis the corresponding x value will be placed:\n",
    "  return slope * x + intercept\n",
    "\n",
    "mymodel = list(map(myfunc, x))\n",
    "\n",
    "plt.scatter(x, y) # Draw the original scatter plot:\n",
    "plt.plot(x, mymodel) # Draw the line of linear regression:\n",
    "plt.show() "
   ]
  },
  {
   "cell_type": "code",
   "execution_count": null,
   "metadata": {},
   "outputs": [],
   "source": [
    "# R for Relationship:\n",
    "# t is important to know how the relationship between the values of the x-axis and the values of the y-axis is, \n",
    "# if there are no relationship the linear regression can not be used to predict anything.\n",
    "\n",
    "# This relationship - the coefficient of correlation - is called r.\n",
    "\n",
    "# The r value ranges from -1 to 1, where 0 means no relationship, and 1 (and -1) means 100% related.\n",
    "\n",
    "# Python and the Scipy module will compute this value for you, all you have to do is feed it with the x and y values.\n",
    "\n",
    "# How well does my data fit in a linear regression?\n",
    "\n",
    "from scipy import stats\n",
    "\n",
    "x = [5,7,8,7,2,17,2,9,4,11,12,9,6]\n",
    "y = [99,86,87,88,111,86,103,87,94,78,77,85,86]\n",
    "\n",
    "slope, intercept, r, p, std_err = stats.linregress(x, y)\n",
    "\n",
    "print(r)\n"
   ]
  },
  {
   "cell_type": "code",
   "execution_count": null,
   "metadata": {},
   "outputs": [],
   "source": [
    "# The result -0.76 shows that there is a relationship, not perfect, but it indicates that we could use \n",
    "# linear regression in future predictions."
   ]
  },
  {
   "cell_type": "code",
   "execution_count": null,
   "metadata": {},
   "outputs": [],
   "source": [
    "#Predict Future Values:\n",
    "# Now we can use the information we have gathered to predict future values.\n",
    "\n",
    "# Example: Let us try to predict the speed of a 10 years old car.\n",
    "\n",
    "# To do so, we need the same myfunc() function from the example above:\n",
    "\n",
    "# def myfunc(x):\n",
    "#   return slope * x + intercep"
   ]
  },
  {
   "cell_type": "code",
   "execution_count": null,
   "metadata": {},
   "outputs": [],
   "source": [
    "# Predict the speed of a 10 years old car:\n",
    "from scipy import stats\n",
    "\n",
    "x = [5,7,8,7,2,17,2,9,4,11,12,9,6]\n",
    "y = [99,86,87,88,111,86,103,87,94,78,77,85,86]\n",
    "\n",
    "slope, intercept, r, p, std_err = stats.linregress(x, y)\n",
    "\n",
    "def myfunc(x):\n",
    "  return slope * x + intercept\n",
    "\n",
    "speed = myfunc(10)\n",
    "\n",
    "print(speed) "
   ]
  },
  {
   "cell_type": "code",
   "execution_count": null,
   "metadata": {},
   "outputs": [],
   "source": [
    "# The example predicted a speed at 85.6, which we also could read from the diagram:"
   ]
  },
  {
   "cell_type": "markdown",
   "metadata": {},
   "source": [
    "## Bad Fit?"
   ]
  },
  {
   "cell_type": "code",
   "execution_count": 5,
   "metadata": {},
   "outputs": [],
   "source": [
    "# Let us create an example where linear regression would not be the best method to predict future values."
   ]
  },
  {
   "cell_type": "code",
   "execution_count": 6,
   "metadata": {},
   "outputs": [
    {
     "data": {
      "image/png": "[encoded data removed]",
      "text/plain": [
       "<Figure size 432x288 with 1 Axes>"
      ]
     },
     "metadata": {
      "needs_background": "light"
     },
     "output_type": "display_data"
    }
   ],
   "source": [
    "# Example\n",
    "\n",
    "# These values for the x- and y-axis should result in a very bad fit for linear regression:\n",
    "import matplotlib.pyplot as plt\n",
    "from scipy import stats\n",
    "\n",
    "x = [89,43,36,36,95,10,66,34,38,20,26,29,48,64,6,5,36,66,72,40]\n",
    "y = [21,46,3,35,67,95,53,72,58,10,26,34,90,33,38,20,56,2,47,15]\n",
    "\n",
    "slope, intercept, r, p, std_err = stats.linregress(x, y)\n",
    "\n",
    "def myfunc(x):\n",
    "  return slope * x + intercept\n",
    "\n",
    "mymodel = list(map(myfunc, x))\n",
    "\n",
    "plt.scatter(x, y)\n",
    "plt.plot(x, mymodel)\n",
    "plt.show() "
   ]
  },
  {
   "cell_type": "code",
   "execution_count": 7,
   "metadata": {},
   "outputs": [],
   "source": [
    "# And the r for relationship?"
   ]
  },
  {
   "cell_type": "code",
   "execution_count": 8,
   "metadata": {},
   "outputs": [
    {
     "name": "stdout",
     "output_type": "stream",
     "text": [
      "0.01331814154297493\n"
     ]
    }
   ],
   "source": [
    "import numpy\n",
    "from scipy import stats\n",
    "\n",
    "x = [89,43,36,36,95,10,66,34,38,20,26,29,48,64,6,5,36,66,72,40]\n",
    "y = [21,46,3,35,67,95,53,72,58,10,26,34,90,33,38,20,56,2,47,15]\n",
    "\n",
    "slope, intercept, r, p, std_err = stats.linregress(x, y)\n",
    "\n",
    "print(r)"
   ]
  },
  {
   "cell_type": "code",
   "execution_count": 9,
   "metadata": {},
   "outputs": [],
   "source": [
    "# The result: 0.013 indicates a very bad relationship, and tells us that this data set is not suitable\n",
    "# for linear regression."
   ]
  },
  {
   "cell_type": "markdown",
   "metadata": {},
   "source": [
    "## Polynomial Regression:"
   ]
  },
  {
   "cell_type": "code",
   "execution_count": 10,
   "metadata": {},
   "outputs": [],
   "source": [
    "# If your data points clearly will not fit a linear regression (a straight line through all data points), \n",
    "# it might be ideal for polynomial regression.\n",
    "\n",
    "# Polynomial regression, like linear regression, uses the relationship between the variables x and y \n",
    "# to find the best way to draw a line through the data points.\n",
    "\n",
    "# Python has methods for finding a relationship between data-points and to draw a line of polynomial regression. We will show you how to use these methods instead of going through the mathematic formula.\n",
    "\n",
    "# In the example below, we have registered 18 cars as they were passing a certain tollbooth.\n",
    "\n",
    "# We have registered the car's speed, and the time of day (hour) the passing occurred.\n",
    "\n",
    "# The x-axis represents the hours of the day and the y-axis represents the speed:"
   ]
  },
  {
   "cell_type": "code",
   "execution_count": 11,
   "metadata": {},
   "outputs": [
    {
     "data": {
      "image/png": "[encoded data removed]",
      "text/plain": [
       "<Figure size 432x288 with 1 Axes>"
      ]
     },
     "metadata": {
      "needs_background": "light"
     },
     "output_type": "display_data"
    }
   ],
   "source": [
    "# Start by drawing a scatter plot:\n",
    "\n",
    "import matplotlib.pyplot as plt\n",
    "\n",
    "x = [1,2,3,5,6,7,8,9,10,12,13,14,15,16,18,19,21,22]\n",
    "y = [100,90,80,60,60,55,60,65,70,70,75,76,78,79,90,99,99,100]\n",
    "\n",
    "plt.scatter(x, y)\n",
    "plt.show() "
   ]
  },
  {
   "cell_type": "code",
   "execution_count": 12,
   "metadata": {},
   "outputs": [
    {
     "data": {
      "image/png": "[encoded data removed]",
      "text/plain": [
       "<Figure size 432x288 with 1 Axes>"
      ]
     },
     "metadata": {
      "needs_background": "light"
     },
     "output_type": "display_data"
    }
   ],
   "source": [
    "# Example\n",
    "\n",
    "# Import numpy and matplotlib then draw the line of Polynomial Regression:\n",
    "\n",
    "# Import the modules \n",
    "import numpy   \n",
    "import matplotlib.pyplot as plt\n",
    "\n",
    "# Create the arrays that represent the values of the x and y axis:\n",
    "x = [1,2,3,5,6,7,8,9,10,12,13,14,15,16,18,19,21,22]\n",
    "y = [100,90,80,60,60,55,60,65,70,70,75,76,78,79,90,99,99,100]\n",
    "\n",
    "# NumPy has a method that lets us make a polynomial model:\n",
    "mymodel = numpy.poly1d(numpy.polyfit(x, y, 3))\n",
    "\n",
    "# Then specify how the line will display, we start at position 1, and end at position 22:\n",
    "myline = numpy.linspace(1, 22, 100)\n",
    "\n",
    "# Draw the original scatter plot:\n",
    "plt.scatter(x, y)\n",
    "\n",
    "# Draw the line of polynomial regression:\n",
    "plt.plot(myline, mymodel(myline))\n",
    "\n",
    "# Display the diagram:\n",
    "plt.show() "
   ]
  },
  {
   "cell_type": "markdown",
   "metadata": {},
   "source": [
    "## R-Squared"
   ]
  },
  {
   "cell_type": "code",
   "execution_count": 13,
   "metadata": {},
   "outputs": [],
   "source": [
    "# It is important to know how well the relationship between the values of the x- and y-axis is, \n",
    "# if there are no relationship the polynomial regression can not be used to predict anything.\n",
    "\n",
    "# The relationship is measured with a value called the r-squared.\n",
    "\n",
    "# The r-squared value ranges from 0 to 1, where 0 means no relationship, and 1 means 100% related.\n",
    "\n",
    "# Python and the Sklearn module will compute this value for you, all you have to do is feed \n",
    "# it with the x and y arrays:"
   ]
  },
  {
   "cell_type": "code",
   "execution_count": 14,
   "metadata": {},
   "outputs": [
    {
     "name": "stdout",
     "output_type": "stream",
     "text": [
      "0.9432150416451027\n"
     ]
    }
   ],
   "source": [
    "# Example\n",
    "\n",
    "# How well does my data fit in a polynomial regression?\n",
    "\n",
    "import numpy\n",
    "from sklearn.metrics import r2_score\n",
    "\n",
    "x = [1,2,3,5,6,7,8,9,10,12,13,14,15,16,18,19,21,22]\n",
    "y = [100,90,80,60,60,55,60,65,70,70,75,76,78,79,90,99,99,100]\n",
    "\n",
    "mymodel = numpy.poly1d(numpy.polyfit(x, y, 3))\n",
    "\n",
    "print(r2_score(y, mymodel(x))) "
   ]
  },
  {
   "cell_type": "code",
   "execution_count": 15,
   "metadata": {},
   "outputs": [],
   "source": [
    "#  The result 0.94 shows that there is a very good relationship, and we can use polynomial regression \n",
    "#  in future predictions."
   ]
  },
  {
   "cell_type": "code",
   "execution_count": 16,
   "metadata": {},
   "outputs": [
    {
     "name": "stdout",
     "output_type": "stream",
     "text": [
      "88.87331269697984\n"
     ]
    }
   ],
   "source": [
    "# Predict Future Values:\n",
    "# Now we can use the information we have gathered to predict future values.\n",
    "\n",
    "# Example: Let us try to predict the speed of a car that passes the tollbooth at around 17 P.M:\n",
    "\n",
    "# To do so, we need the same mymodel array from the example above:\n",
    "\n",
    "# mymodel = numpy.poly1d(numpy.polyfit(x, y, 3))\n",
    "\n",
    "# Example\n",
    "\n",
    "# Predict the speed of a car passing at 17 P.M:\n",
    "import numpy\n",
    "from sklearn.metrics import r2_score\n",
    "\n",
    "x = [1,2,3,5,6,7,8,9,10,12,13,14,15,16,18,19,21,22]\n",
    "y = [100,90,80,60,60,55,60,65,70,70,75,76,78,79,90,99,99,100]\n",
    "\n",
    "mymodel = numpy.poly1d(numpy.polyfit(x, y, 3))\n",
    "\n",
    "speed = mymodel(17)\n",
    "print(speed) "
   ]
  },
  {
   "cell_type": "code",
   "execution_count": 17,
   "metadata": {},
   "outputs": [],
   "source": [
    "# The example predicted a speed to be 88.87, which we also could read from the diagram:\n"
   ]
  },
  {
   "cell_type": "markdown",
   "metadata": {},
   "source": [
    "## Bad Fit?"
   ]
  },
  {
   "cell_type": "code",
   "execution_count": 18,
   "metadata": {},
   "outputs": [
    {
     "data": {
      "image/png": "[encoded data removed]",
      "text/plain": [
       "<Figure size 432x288 with 1 Axes>"
      ]
     },
     "metadata": {
      "needs_background": "light"
     },
     "output_type": "display_data"
    }
   ],
   "source": [
    "# Let us create an example where polynomial regression would not be the best method to predict future values.\n",
    "\n",
    "# Example\n",
    "\n",
    "# These values for the x- and y-axis should result in a very bad fit for polynomial regression:\n",
    "\n",
    "import numpy\n",
    "import matplotlib.pyplot as plt\n",
    "\n",
    "x = [89,43,36,36,95,10,66,34,38,20,26,29,48,64,6,5,36,66,72,40]\n",
    "y = [21,46,3,35,67,95,53,72,58,10,26,34,90,33,38,20,56,2,47,15]\n",
    "\n",
    "mymodel = numpy.poly1d(numpy.polyfit(x, y, 3))\n",
    "\n",
    "myline = numpy.linspace(2, 95, 100)\n",
    "\n",
    "plt.scatter(x, y)\n",
    "plt.plot(myline, mymodel(myline))\n",
    "plt.show() "
   ]
  },
  {
   "cell_type": "code",
   "execution_count": 19,
   "metadata": {},
   "outputs": [
    {
     "name": "stdout",
     "output_type": "stream",
     "text": [
      "0.00995270756668043\n"
     ]
    }
   ],
   "source": [
    "# And the r-squared value?\n",
    "\n",
    "# Example\n",
    "\n",
    "# You should get a very low r-squared value.\n",
    "\n",
    "import numpy\n",
    "from sklearn.metrics import r2_score\n",
    "\n",
    "x = [89,43,36,36,95,10,66,34,38,20,26,29,48,64,6,5,36,66,72,40]\n",
    "y = [21,46,3,35,67,95,53,72,58,10,26,34,90,33,38,20,56,2,47,15]\n",
    "\n",
    "mymodel = numpy.poly1d(numpy.polyfit(x, y, 3))\n",
    "\n",
    "print(r2_score(y, mymodel(x)))"
   ]
  },
  {
   "cell_type": "code",
   "execution_count": 20,
   "metadata": {},
   "outputs": [],
   "source": [
    "# The result: 0.00995 indicates a very bad relationship, and tells us that this data set is not suitable\n",
    "# for polynomial regression."
   ]
  },
  {
   "cell_type": "markdown",
   "metadata": {},
   "source": [
    "## Multiple Regression"
   ]
  },
  {
   "cell_type": "code",
   "execution_count": 21,
   "metadata": {},
   "outputs": [
    {
     "name": "stdout",
     "output_type": "stream",
     "text": [
      "[107.2087328]\n"
     ]
    }
   ],
   "source": [
    "# Multiple regression is like linear regression, but with more than one independent value, meaning that we try to predict a value based on \n",
    "# two or more variables.\n",
    "\n",
    "# We can predict the CO2 emission of a car based on the size of the engine, \n",
    "# but with multiple regression we can throw in more variables, \n",
    "# like the weight of the car, to make the prediction more accurate.\n",
    "\n",
    "# In Python we have modules that will do the work for us. Start by importing the Pandas module.\n",
    "\n",
    "# import pandas\n",
    "\n",
    "# The Pandas module allows us to read csv files and return a DataFrame object.\n",
    "\n",
    "# df = pandas.read_csv(\"cars.csv\")\n",
    "\n",
    "# Then make a list of the independent values and call this variable X.\n",
    "\n",
    "# Put the dependent values in a variable called y.\n",
    "\n",
    "# X = df[['Weight', 'Volume']]\n",
    "# y = df['CO2']\n",
    "#  It is common to name the list of independent values with a upper case X, \n",
    "#     and the list of dependent values with a lower case y.\n",
    "\n",
    "# We will use some methods from the sklearn module, so we will have to import that module as well:\n",
    "\n",
    "# from sklearn import linear_model\n",
    "\n",
    "# From the sklearn module we will use the LinearRegression() method to create a linear regression object.\n",
    "\n",
    "# This object has a method called fit() that takes the independent and dependent values as parameters and \n",
    "# fills the regression object with data that describes the relationship:\n",
    "\n",
    "# regr = linear_model.LinearRegression()\n",
    "# regr.fit(X, y)\n",
    "\n",
    "# Now we have a regression object that are ready to predict CO2 values based on a car's weight and volume:\n",
    "\n",
    "# #predict the CO2 emission of a car where the weight is 2300kg, and the volume is 1300cm3:\n",
    "# predictedCO2 = regr.predict([[2300, 1300]])\n",
    "\n",
    "# Example\n",
    "\n",
    "# See the whole example in action:\n",
    "\n",
    "import pandas\n",
    "from sklearn import linear_model\n",
    "\n",
    "df = pandas.read_csv(\"cars.csv\")\n",
    "\n",
    "X = df[['Weight', 'Volume']]\n",
    "y = df['CO2']\n",
    "\n",
    "regr = linear_model.LinearRegression()\n",
    "regr.fit(X, y)\n",
    "\n",
    "#predict the CO2 emission of a car where the weight is 2300kg, and the volume is 1300cm3:\n",
    "predictedCO2 = regr.predict([[2300, 1300]])\n",
    "\n",
    "print(predictedCO2) \n"
   ]
  },
  {
   "cell_type": "code",
   "execution_count": 22,
   "metadata": {},
   "outputs": [],
   "source": [
    "# We have predicted that a car with 1.3 liter engine, and a weight of 2300 kg, \n",
    "# will release approximately 107 grams of CO2 for every kilometer it drives."
   ]
  },
  {
   "cell_type": "code",
   "execution_count": 23,
   "metadata": {},
   "outputs": [
    {
     "name": "stdout",
     "output_type": "stream",
     "text": [
      "[0.00755095 0.00780526]\n"
     ]
    }
   ],
   "source": [
    "# Coefficient:\n",
    "# The coefficient is a factor that describes the relationship with an unknown variable.\n",
    "\n",
    "# Example: if x is a variable, then 2x is x two times. x is the unknown variable, and the number 2 is \n",
    "#     the coefficient.\n",
    "\n",
    "# In this case, we can ask for the coefficient value of weight against CO2, and for volume against CO2. \n",
    "# The answer(s) we get tells us what would happen if we increase, or decrease, one of the independent values.\n",
    "\n",
    "# Example\n",
    "\n",
    "# Print the coefficient values of the regression object:\n",
    "\n",
    "import pandas\n",
    "from sklearn import linear_model\n",
    "\n",
    "df = pandas.read_csv(\"cars.csv\")\n",
    "\n",
    "X = df[['Weight', 'Volume']]\n",
    "y = df['CO2']\n",
    "\n",
    "regr = linear_model.LinearRegression()\n",
    "regr.fit(X, y)\n",
    "\n",
    "print(regr.coef_) "
   ]
  },
  {
   "cell_type": "code",
   "execution_count": 24,
   "metadata": {},
   "outputs": [],
   "source": [
    "# Result Explained\n",
    "\n",
    "# The result array represents the coefficient values of weight and volume.\n",
    "\n",
    "# Weight: 0.00755095\n",
    "# Volume: 0.00780526\n",
    "\n",
    "# These values tell us that if the weight increase by 1kg, the CO2 emission increases by 0.00755095g.\n",
    "\n",
    "# And if the engine size (Volume) increases by 1 cm3, the CO2 emission increases by 0.00780526 g.\n",
    "\n",
    "# I think that is a fair guess, but let test it!\n",
    "\n",
    "# We have already predicted that if a car with a 1300cm3 engine weighs 2300kg, \n",
    "# the CO2 emission will be approximately 107g."
   ]
  },
  {
   "cell_type": "code",
   "execution_count": 25,
   "metadata": {},
   "outputs": [
    {
     "name": "stdout",
     "output_type": "stream",
     "text": [
      "[114.75968007]\n"
     ]
    }
   ],
   "source": [
    "# What if we increase the weight with 1000kg?\n",
    "# Example\n",
    "\n",
    "# Copy the example from before, but change the weight from 2300 to 3300:\n",
    "\n",
    "import pandas\n",
    "from sklearn import linear_model\n",
    "\n",
    "df = pandas.read_csv(\"cars.csv\")\n",
    "\n",
    "X = df[['Weight', 'Volume']]\n",
    "y = df['CO2']\n",
    "\n",
    "regr = linear_model.LinearRegression()\n",
    "regr.fit(X, y)\n",
    "\n",
    "predictedCO2 = regr.predict([[3300, 1300]])\n",
    "\n",
    "print(predictedCO2) "
   ]
  },
  {
   "cell_type": "code",
   "execution_count": 26,
   "metadata": {},
   "outputs": [],
   "source": [
    "# We have predicted that a car with 1.3 liter engine, and a weight of 3300 kg, \n",
    "# will release approximately 115 grams of CO2 for every kilometer it drives.\n",
    "\n",
    "# Which shows that the coefficient of 0.00755095 is correct:\n",
    "\n",
    "# 107.2087328 + (1000 * 0.00755095) = 114.75968"
   ]
  },
  {
   "cell_type": "markdown",
   "metadata": {},
   "source": [
    "## Scale Features"
   ]
  },
  {
   "cell_type": "code",
   "execution_count": 27,
   "metadata": {},
   "outputs": [
    {
     "name": "stdout",
     "output_type": "stream",
     "text": [
      "[[-2.10389253 -1.59336644]\n",
      " [-0.55407235 -1.07190106]\n",
      " [-1.52166278 -1.59336644]\n",
      " [-1.78973979 -1.85409913]\n",
      " [-0.63784641 -0.28970299]\n",
      " [-1.52166278 -1.59336644]\n",
      " [-0.76769621 -0.55043568]\n",
      " [ 0.3046118  -0.28970299]\n",
      " [-0.7551301  -0.28970299]\n",
      " [-0.59595938 -0.0289703 ]\n",
      " [-1.30803892 -1.33263375]\n",
      " [-1.26615189 -0.81116837]\n",
      " [-0.7551301  -1.59336644]\n",
      " [-0.16871166 -0.0289703 ]\n",
      " [ 0.14125238 -0.0289703 ]\n",
      " [ 0.15800719 -0.0289703 ]\n",
      " [ 0.3046118  -0.0289703 ]\n",
      " [-0.05142797  1.53542584]\n",
      " [-0.72580918 -0.0289703 ]\n",
      " [ 0.14962979  1.01396046]\n",
      " [ 1.2219378  -0.0289703 ]\n",
      " [ 0.5685001   1.01396046]\n",
      " [ 0.3046118   1.27469315]\n",
      " [ 0.51404696 -0.0289703 ]\n",
      " [ 0.51404696  1.01396046]\n",
      " [ 0.72348212 -0.28970299]\n",
      " [ 0.8281997   1.01396046]\n",
      " [ 1.81254495  1.01396046]\n",
      " [ 0.96642691 -0.0289703 ]\n",
      " [ 1.72877089  1.01396046]\n",
      " [ 1.30990057  1.27469315]\n",
      " [ 1.90050772  1.01396046]\n",
      " [-0.23991961 -0.0289703 ]\n",
      " [ 0.40932938 -0.0289703 ]\n",
      " [ 0.47215993 -0.0289703 ]\n",
      " [ 0.4302729   2.31762392]]\n"
     ]
    }
   ],
   "source": [
    "# When your data has different values, and even different measurement units, it can be difficult to compare them. What is kilograms compared to meters? Or altitude compared to time?\n",
    "\n",
    "# The answer to this problem is scaling. We can scale data into new values that are easier to compare.\n",
    "\n",
    "# Take a look at the table below, it is the same data set that we used in the multiple regression chapter, but this time the volume column contains values in liters instead of cm3 (1.0 instead of 1000).\n",
    "\n",
    "# The file is meant for testing purposes only, you can download it here: cars2.csv\n",
    "# Car \tModel \tVolume \tWeight \tCO2 \t\n",
    "# Toyota \tAygo \t1.0 \t790 \t99\n",
    "# Mitsubishi \tSpace Star \t1.2 \t1160 \t95\n",
    "# Skoda \tCitigo \t1.0 \t929 \t\n",
    "\n",
    "\n",
    "# It can be difficult to compare the volume 1.0 with the weight 790, but if we scale them both into comparable values,\n",
    "# we can easily see how much one value is compared to the other.\n",
    "\n",
    "# There are different methods for scaling data, in this tutorial we will use a method called standardization.\n",
    "\n",
    "# The standardization method uses this formula:\n",
    "\n",
    "# z = (x - u) / s\n",
    "\n",
    "# Where z is the new value, x is the original value, u is the mean and s is the standard deviation.\n",
    "\n",
    "# If you take the weight column from the data set above, the first value is 790, and the scaled value will be:\n",
    "# (790 - 1292.23) / 238.74 = -2.1\n",
    "\n",
    "# If you take the volume column from the data set above, the first value is 1.0, and the scaled value will be:\n",
    "\n",
    "# (1.0 - 1.61) / 0.38 = -1.59\n",
    "\n",
    "# Now you can compare -2.1 with -1.59 instead of comparing 790 with 1.0.\n",
    "\n",
    "# You do not have to do this manually, the Python sklearn module has a method called StandardScaler() \n",
    "# which returns a Scaler object with methods for transforming data sets.\n",
    "\n",
    "# Example\n",
    "\n",
    "# Scale all values in the Weight and Volume columns:\n",
    "\n",
    "import pandas\n",
    "from sklearn import linear_model\n",
    "from sklearn.preprocessing import StandardScaler\n",
    "scale = StandardScaler()\n",
    "\n",
    "df = pandas.read_csv(\"cars2.csv\")\n",
    "\n",
    "X = df[['Weight', 'Volume']]\n",
    "\n",
    "scaledX = scale.fit_transform(X)\n",
    "\n",
    "print(scaledX) "
   ]
  },
  {
   "cell_type": "code",
   "execution_count": 28,
   "metadata": {},
   "outputs": [
    {
     "name": "stdout",
     "output_type": "stream",
     "text": [
      "[107.2087328]\n"
     ]
    }
   ],
   "source": [
    "# Predict CO2 Values\n",
    "\n",
    "# The task in the Multiple Regression chapter was to predict the CO2 emission from a car when you \n",
    "# only knew its weight and volume.\n",
    "\n",
    "# When the data set is scaled, you will have to use the scale when you predict values:\n",
    "# Example\n",
    "\n",
    "# Predict the CO2 emission from a 1.3 liter car that weighs 2300 kilograms:\n",
    "import pandas\n",
    "from sklearn import linear_model\n",
    "from sklearn.preprocessing import StandardScaler\n",
    "scale = StandardScaler()\n",
    "\n",
    "df = pandas.read_csv(\"cars2.csv\")\n",
    "\n",
    "X = df[['Weight', 'Volume']]\n",
    "y = df['CO2']\n",
    "\n",
    "scaledX = scale.fit_transform(X)\n",
    "\n",
    "regr = linear_model.LinearRegression()\n",
    "regr.fit(scaledX, y)\n",
    "\n",
    "scaled = scale.transform([[2300, 1.3]])\n",
    "\n",
    "predictedCO2 = regr.predict([scaled[0]])\n",
    "print(predictedCO2) "
   ]
  },
  {
   "cell_type": "markdown",
   "metadata": {},
   "source": [
    "## Evaluate Your Model: Train/Test"
   ]
  },
  {
   "cell_type": "code",
   "execution_count": 29,
   "metadata": {},
   "outputs": [],
   "source": [
    "# Evaluate Your Model\n",
    "\n",
    "# In Machine Learning we create models to predict the outcome of certain events, like in the previous chapter where we predicted the CO2 emission of a car when we knew the weight and engine size.\n",
    "\n",
    "# To measure if the model is good enough, we can use a method called Train/Test.\n",
    "\n",
    "# What is Train/Test\n",
    "\n",
    "# Train/Test is a method to measure the accuracy of your model.\n",
    "\n",
    "# It is called Train/Test because you split the the data set into two sets: a training set and a testing set.\n",
    "\n",
    "# 80% for training, and 20% for testing.\n",
    "\n",
    "# You train the model using the training set.\n",
    "\n",
    "# You test the model using the testing set.\n",
    "\n",
    "# Train the model means create the model.\n",
    "\n",
    "# Test the model means test the accuracy of the model.\n"
   ]
  },
  {
   "cell_type": "code",
   "execution_count": 30,
   "metadata": {},
   "outputs": [
    {
     "data": {
      "image/png": "[encoded data removed]",
      "text/plain": [
       "<Figure size 432x288 with 1 Axes>"
      ]
     },
     "metadata": {
      "needs_background": "light"
     },
     "output_type": "display_data"
    }
   ],
   "source": [
    "# Start With a Data Set\n",
    "\n",
    "# Start with a data set you want to test.\n",
    "\n",
    "# Our data set illustrates 100 customers in a shop, and their shopping habits.\n",
    "\n",
    "import numpy\n",
    "import matplotlib.pyplot as plt\n",
    "numpy.random.seed(2)\n",
    "\n",
    "x = numpy.random.normal(3, 1, 100)\n",
    "y = numpy.random.normal(150, 40, 100) / x\n",
    "\n",
    "plt.scatter(x, y)\n",
    "plt.show() "
   ]
  },
  {
   "cell_type": "code",
   "execution_count": 31,
   "metadata": {},
   "outputs": [],
   "source": [
    "# Result:\n",
    "\n",
    "# The x axis represents the number of minutes before making a purchase.\n",
    "\n",
    "# The y axis represents the amount of money spent on the purchase.\n"
   ]
  },
  {
   "cell_type": "code",
   "execution_count": 32,
   "metadata": {},
   "outputs": [
    {
     "data": {
      "image/png": "[encoded data removed]",
      "text/plain": [
       "<Figure size 432x288 with 1 Axes>"
      ]
     },
     "metadata": {
      "needs_background": "light"
     },
     "output_type": "display_data"
    }
   ],
   "source": [
    "# Split Into Train/Test\n",
    "\n",
    "# The training set should be a random selection of 80% of the original data.\n",
    "\n",
    "# The testing set should be the remaining 20%.\n",
    "\n",
    "# train_x = x[:80]\n",
    "# train_y = y[:80]\n",
    "\n",
    "# test_x = x[80:]\n",
    "# test_y = y[80:] \n",
    "\n",
    "# Display the Training Set\n",
    "\n",
    "# Display the same scatter plot with the training set:\n",
    "# Example:\n",
    "train_x = x[:80]\n",
    "train_y = y[:80]\n",
    "\n",
    "test_x = x[80:]\n",
    "test_y = y[80:] \n",
    "plt.scatter(train_x, train_y)\n",
    "plt.show() "
   ]
  },
  {
   "cell_type": "code",
   "execution_count": 33,
   "metadata": {},
   "outputs": [
    {
     "data": {
      "image/png": "[encoded data removed]",
      "text/plain": [
       "<Figure size 432x288 with 1 Axes>"
      ]
     },
     "metadata": {
      "needs_background": "light"
     },
     "output_type": "display_data"
    }
   ],
   "source": [
    "# Display the Testing Set\n",
    "# To make sure the testing set is not completely different, we will take a look at the testing set as well.\n",
    "\n",
    "plt.scatter(test_x, test_y)\n",
    "plt.show() "
   ]
  },
  {
   "cell_type": "code",
   "execution_count": 34,
   "metadata": {},
   "outputs": [],
   "source": [
    "# Result:\n",
    "\n",
    "# The testing set also looks like the original data set:"
   ]
  },
  {
   "cell_type": "code",
   "execution_count": 35,
   "metadata": {},
   "outputs": [
    {
     "data": {
      "image/png": "[encoded data removed]",
      "text/plain": [
       "<Figure size 432x288 with 1 Axes>"
      ]
     },
     "metadata": {
      "needs_background": "light"
     },
     "output_type": "display_data"
    }
   ],
   "source": [
    "# Fit the Data Set\n",
    "\n",
    "# What does the data set look like? In my opinion I think the best fit would be a polynomial regression, so let us draw a line of polynomial regression.\n",
    "\n",
    "# To draw a line through the data points, we use the plot() method of the matplotlib module:\n",
    "\n",
    "# Example\n",
    "\n",
    "# Draw a polynomial regression line through the data points:\n",
    "\n",
    "import numpy\n",
    "import matplotlib.pyplot as plt\n",
    "numpy.random.seed(2)\n",
    "\n",
    "x = numpy.random.normal(3, 1, 100)\n",
    "y = numpy.random.normal(150, 40, 100) / x\n",
    "\n",
    "train_x = x[:80]\n",
    "train_y = y[:80]\n",
    "\n",
    "test_x = x[80:]\n",
    "test_y = y[80:]\n",
    "\n",
    "mymodel = numpy.poly1d(numpy.polyfit(train_x, train_y, 4))\n",
    "\n",
    "myline = numpy.linspace(0, 6, 100)\n",
    "\n",
    "plt.scatter(train_x, train_y)\n",
    "plt.plot(myline, mymodel(myline))\n",
    "plt.show() "
   ]
  },
  {
   "cell_type": "code",
   "execution_count": 36,
   "metadata": {},
   "outputs": [],
   "source": [
    "# The result can back my suggestion of the data set fitting a polynomial regression, even though it would give us some weird results if we try to predict values outside of the data set. Example: the line indicates that a customer spending 6 minutes in the shop would make a purchase worth 200. \n",
    "#     That is probably a sign of overfitting."
   ]
  },
  {
   "cell_type": "code",
   "execution_count": 37,
   "metadata": {},
   "outputs": [
    {
     "name": "stdout",
     "output_type": "stream",
     "text": [
      "0.7988645544629794\n"
     ]
    }
   ],
   "source": [
    "# But what about the R-squared score? The R-squared score is a good indicator of\n",
    "# how well my data set is fitting the model.\n",
    "# R2\n",
    "\n",
    "# Remember R2, also known as R-squared?\n",
    "\n",
    "# It measures the relationship between the x axis and the y axis, and the value ranges from 0 to 1, \n",
    "# where 0 means no relationship, and 1 means totally related.\n",
    "\n",
    "# The sklearn module has a method called r2_score() that will help us find this relationship.\n",
    "\n",
    "# In this case we would like to measure the relationship between the minutes a customer stays in \n",
    "# the shop and how much money they spend.\n",
    "\n",
    "# Example\n",
    "\n",
    "# How well does my training data fit in a polynomial regression?\n",
    "\n",
    "import numpy\n",
    "from sklearn.metrics import r2_score\n",
    "numpy.random.seed(2)\n",
    "\n",
    "x = numpy.random.normal(3, 1, 100)\n",
    "y = numpy.random.normal(150, 40, 100) / x\n",
    "\n",
    "train_x = x[:80]\n",
    "train_y = y[:80]\n",
    "\n",
    "test_x = x[80:]\n",
    "test_y = y[80:]\n",
    "\n",
    "mymodel = numpy.poly1d(numpy.polyfit(train_x, train_y, 4))\n",
    "\n",
    "r2 = r2_score(train_y, mymodel(train_x))\n",
    "\n",
    "print(r2) "
   ]
  },
  {
   "cell_type": "code",
   "execution_count": 38,
   "metadata": {},
   "outputs": [],
   "source": [
    "# The result 0.799 shows that there is a OK relationship."
   ]
  },
  {
   "cell_type": "code",
   "execution_count": 39,
   "metadata": {},
   "outputs": [
    {
     "name": "stdout",
     "output_type": "stream",
     "text": [
      "0.8086921460343681\n"
     ]
    }
   ],
   "source": [
    "# Bring in the Testing Set\n",
    "\n",
    "# Now we have made a model that is OK, at least when it comes to training data.\n",
    "\n",
    "# Now we want to test the model with the testing data as well, to see if gives us the same result.\n",
    "\n",
    "# Example\n",
    "\n",
    "# Let us find the R2 score when using testing data:\n",
    "\n",
    "import numpy\n",
    "from sklearn.metrics import r2_score\n",
    "numpy.random.seed(2)\n",
    "\n",
    "x = numpy.random.normal(3, 1, 100)\n",
    "y = numpy.random.normal(150, 40, 100) / x\n",
    "\n",
    "train_x = x[:80]\n",
    "train_y = y[:80]\n",
    "\n",
    "test_x = x[80:]\n",
    "test_y = y[80:]\n",
    "\n",
    "mymodel = numpy.poly1d(numpy.polyfit(train_x, train_y, 4))\n",
    "\n",
    "r2 = r2_score(test_y, mymodel(test_x))\n",
    "\n",
    "print(r2) "
   ]
  },
  {
   "cell_type": "code",
   "execution_count": 40,
   "metadata": {},
   "outputs": [],
   "source": [
    "#  The result 0.809 shows that the model fits the testing set as well, and we are confident that \n",
    "#  we can use the model to predict future values.\n",
    "# Predict Values\n",
    "\n",
    "# Now that we have established that our model is OK, we can start predicting new values.\n",
    "# Example\n",
    "\n",
    "# How much money will a buying customer spend, if she or he stays in the shop for 5 minutes?"
   ]
  },
  {
   "cell_type": "code",
   "execution_count": 41,
   "metadata": {},
   "outputs": [
    {
     "name": "stdout",
     "output_type": "stream",
     "text": [
      "22.87962591811936\n"
     ]
    }
   ],
   "source": [
    "print(mymodel(5)) "
   ]
  },
  {
   "cell_type": "markdown",
   "metadata": {},
   "source": [
    "## Decision Tree:\n"
   ]
  },
  {
   "cell_type": "code",
   "execution_count": 42,
   "metadata": {},
   "outputs": [],
   "source": [
    "# A Decision Tree is a Flow Chart, and can help you make decisions based on previous experience.\n",
    "\n",
    "# In the example, a person will try to decide if he/she should go to a comedy show or not.\n",
    "\n",
    "# Luckily our example person has registered every time there was a comedy show in town, \n",
    "# and registered some information about the comedian, and also registered if he/she went or not.\n",
    "\n",
    "# Age \tExperience \tRank \tNationality \tGo\n",
    "# 36 \t10 \t9 \tUK \tNO\n",
    "# 42 \t12 \t4 \tUSA \tNO\n",
    "# 23 \t4 \t6 \tN \tNO\n",
    "# 52 \t4 \t4 \tUSA \tNO\n",
    "# 43 \t21 \t8 \tUSA \tYES\n",
    "\n",
    "# Now, based on this data set, Python can create a decision tree that can be used to decide\n",
    "# if any new shows are worth attending to.\n"
   ]
  },
  {
   "cell_type": "code",
   "execution_count": 43,
   "metadata": {},
   "outputs": [],
   "source": [
    "# install pydotplus from anacoda command prompt. cmd: \"conda install -c conda-forge pydotplus\""
   ]
  },
  {
   "cell_type": "code",
   "execution_count": 51,
   "metadata": {},
   "outputs": [
    {
     "name": "stdout",
     "output_type": "stream",
     "text": [
      "    Age  Experience  Rank Nationality   Go\n",
      "0    36          10     9          UK   NO\n",
      "1    42          12     4         USA   NO\n",
      "2    23           4     6           N   NO\n",
      "3    52           4     4         USA   NO\n",
      "4    43          21     8         USA  YES\n",
      "5    44          14     5          UK   NO\n",
      "6    66           3     7           N  YES\n",
      "7    35          14     9          UK  YES\n",
      "8    52          13     7           N  YES\n",
      "9    35           5     9           N  YES\n",
      "10   24           3     5         USA   NO\n",
      "11   18           3     7          UK  YES\n",
      "12   45           9     9          UK  YES\n"
     ]
    }
   ],
   "source": [
    "import pandas\n",
    "from sklearn import tree\n",
    "import pydotplus\n",
    "from sklearn.tree import DecisionTreeClassifier\n",
    "import matplotlib.pyplot as plt\n",
    "import matplotlib.image as pltimg\n",
    "\n",
    "df = pandas.read_csv(\"shows.csv\")\n",
    "\n",
    "print(df) "
   ]
  },
  {
   "cell_type": "code",
   "execution_count": 45,
   "metadata": {},
   "outputs": [],
   "source": [
    "# To make a decision tree, all data has to be numerical.\n",
    "\n",
    "# We have to convert the non numerical columns 'Nationality' and 'Go' into numerical values.\n",
    "\n",
    "# Pandas has a map() method that takes a dictionary with information on how to convert the values.\n",
    "\n",
    "# {'UK': 0, 'USA': 1, 'N': 2}\n",
    "\n",
    "# Means convert the values 'UK' to 0, 'USA' to 1, and 'N' to 2."
   ]
  },
  {
   "cell_type": "code",
   "execution_count": 48,
   "metadata": {},
   "outputs": [
    {
     "name": "stdout",
     "output_type": "stream",
     "text": [
      "    Age  Experience  Rank  Nationality  Go\n",
      "0    36          10     9            0   0\n",
      "1    42          12     4            1   0\n",
      "2    23           4     6            2   0\n",
      "3    52           4     4            1   0\n",
      "4    43          21     8            1   1\n",
      "5    44          14     5            0   0\n",
      "6    66           3     7            2   1\n",
      "7    35          14     9            0   1\n",
      "8    52          13     7            2   1\n",
      "9    35           5     9            2   1\n",
      "10   24           3     5            1   0\n",
      "11   18           3     7            0   1\n",
      "12   45           9     9            0   1\n"
     ]
    }
   ],
   "source": [
    "# Example\n",
    "\n",
    "# Change string values into numerical values:\n",
    "\n",
    "d = {'UK': 0, 'USA': 1, 'N': 2}\n",
    "df['Nationality'] = df['Nationality'].map(d)\n",
    "d = {'YES': 1, 'NO': 0}\n",
    "df['Go'] = df['Go'].map(d)\n",
    "\n",
    "print(df) "
   ]
  },
  {
   "cell_type": "code",
   "execution_count": 49,
   "metadata": {},
   "outputs": [
    {
     "name": "stdout",
     "output_type": "stream",
     "text": [
      "    Age  Experience  Rank  Nationality\n",
      "0    36          10     9            0\n",
      "1    42          12     4            1\n",
      "2    23           4     6            2\n",
      "3    52           4     4            1\n",
      "4    43          21     8            1\n",
      "5    44          14     5            0\n",
      "6    66           3     7            2\n",
      "7    35          14     9            0\n",
      "8    52          13     7            2\n",
      "9    35           5     9            2\n",
      "10   24           3     5            1\n",
      "11   18           3     7            0\n",
      "12   45           9     9            0\n",
      "0     0\n",
      "1     0\n",
      "2     0\n",
      "3     0\n",
      "4     1\n",
      "5     0\n",
      "6     1\n",
      "7     1\n",
      "8     1\n",
      "9     1\n",
      "10    0\n",
      "11    1\n",
      "12    1\n",
      "Name: Go, dtype: int64\n"
     ]
    }
   ],
   "source": [
    "# Then we have to separate the feature columns from the target column.\n",
    "\n",
    "# The feature columns are the columns that we try to predict from, \n",
    "# and the target column is the column with the values we try to predict.\n",
    "# Example\n",
    "\n",
    "# X is the feature columns, y is the target column:\n",
    "\n",
    "features = ['Age', 'Experience', 'Rank', 'Nationality']\n",
    "\n",
    "X = df[features]\n",
    "y = df['Go']\n",
    "\n",
    "print(X)\n",
    "print(y) "
   ]
  },
  {
   "cell_type": "code",
   "execution_count": 52,
   "metadata": {},
   "outputs": [
    {
     "data": {
      "image/png": "[encoded data removed]",
      "text/plain": [
       "<Figure size 432x288 with 1 Axes>"
      ]
     },
     "metadata": {
      "needs_background": "light"
     },
     "output_type": "display_data"
    }
   ],
   "source": [
    "# Now we can create the actual decision tree, fit it with our details, and save a .png file on the computer:\n",
    "# Example\n",
    "\n",
    "# Create a Decision Tree, save it as an image, and show the image:\n",
    "\n",
    "dtree = DecisionTreeClassifier()\n",
    "dtree = dtree.fit(X, y)\n",
    "data = tree.export_graphviz(dtree, out_file=None, feature_names=features)\n",
    "graph = pydotplus.graph_from_dot_data(data)\n",
    "graph.write_png('mydecisiontree.png')\n",
    "\n",
    "img=pltimg.imread('mydecisiontree.png')\n",
    "imgplot = plt.imshow(img)\n",
    "plt.show() "
   ]
  },
  {
   "cell_type": "markdown",
   "metadata": {},
   "source": [
    "## Predict Values"
   ]
  },
  {
   "cell_type": "code",
   "execution_count": 53,
   "metadata": {},
   "outputs": [
    {
     "name": "stdout",
     "output_type": "stream",
     "text": [
      "[1]\n"
     ]
    }
   ],
   "source": [
    "# Example\n",
    "\n",
    "# Use predict() method to predict new values:\n",
    "print(dtree.predict([[40, 10, 7, 1]])) "
   ]
  },
  {
   "cell_type": "code",
   "execution_count": 54,
   "metadata": {},
   "outputs": [
    {
     "name": "stdout",
     "output_type": "stream",
     "text": [
      "[0]\n"
     ]
    }
   ],
   "source": [
    "# Example\n",
    "\n",
    "# What would the answer be if the comedy rank was 6?\n",
    "print(dtree.predict([[40, 10, 6, 1]])) "
   ]
  },
  {
   "cell_type": "code",
   "execution_count": null,
   "metadata": {},
   "outputs": [],
   "source": [
    "\n",
    "# Different Results\n",
    "\n",
    "# You will see that the Decision Tree gives you different results if you run it enough times,\n",
    "# even if you feed it with the same data.\n",
    "\n",
    "# That is because the Decision Tree does not give us a 100% certain answer. \n",
    "# It is based on the probability of an outcome, and the answer will vary.\n"
   ]
  }
 ],
 "metadata": {
  "kernelspec": {
   "display_name": "Python 3",
   "language": "python",
   "name": "python3"
  },
  "language_info": {
   "codemirror_mode": {
    "name": "ipython",
    "version": 3
   },
   "file_extension": ".py",
   "mimetype": "text/x-python",
   "name": "python",
   "nbconvert_exporter": "python",
   "pygments_lexer": "ipython3",
   "version": "3.7.6"
  }
 },
 "nbformat": 4,
 "nbformat_minor": 4
}
